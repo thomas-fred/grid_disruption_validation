{
 "cells": [
  {
   "cell_type": "code",
   "execution_count": null,
   "id": "249693b9",
   "metadata": {},
   "outputs": [],
   "source": [
    "# Compare the f_value (measure of customers disconnected by storm, 0 -> all, 1-> none)\n",
    "# for various transmission line destruction wind speed thresholds.\n",
    "\n",
    "# Specific example: Hurricane Maria 2017, and its impacts on the Puerto Rican grid"
   ]
  },
  {
   "cell_type": "code",
   "execution_count": null,
   "id": "b5552aaa",
   "metadata": {},
   "outputs": [],
   "source": [
    "from IPython.display import display, HTML\n",
    "display(HTML(\"<style>.container { width:100% !important; }</style>\"))"
   ]
  },
  {
   "cell_type": "code",
   "execution_count": null,
   "id": "bf92ecbe",
   "metadata": {},
   "outputs": [],
   "source": [
    "import os\n",
    "import re\n",
    "from glob import glob\n",
    "from pathlib import Path\n",
    "\n",
    "import matplotlib.pyplot as plt\n",
    "from matplotlib.colors import Normalize\n",
    "import geopandas as gpd"
   ]
  },
  {
   "cell_type": "code",
   "execution_count": null,
   "id": "b2dfdeed",
   "metadata": {},
   "outputs": [],
   "source": [
    "def natural_sort(s):\n",
    "    return sorted(s, key=lambda s: [int(t) if t.isdigit() else t.lower() for t in re.split('(\\d+)', str(s))])"
   ]
  },
  {
   "cell_type": "code",
   "execution_count": null,
   "id": "98b70812",
   "metadata": {},
   "outputs": [],
   "source": [
    "# load our target data\n",
    "\n",
    "# expect target files:\n",
    "#   to be named \"targets__<...>.gpkg\"\n",
    "#   to reside in a directory named with the wind speed threshold, e.g. \"20\"\n",
    "\n",
    "target_files = natural_sort(\n",
    "    [\n",
    "        Path(p) for p in glob(os.path.join(os.getcwd(), \"output\", \"*/**\"))\n",
    "        if \"targets__\" in p and p.endswith(\".gpkg\")\n",
    "    ]\n",
    ")\n",
    "\n",
    "targets = {}\n",
    "for path in target_files:\n",
    "    wind_speed_threshold = int(path.parent.name)\n",
    "    df = gpd.read_file(path)\n",
    "    df.f_value = df.f_value.astype(float)\n",
    "    targets[wind_speed_threshold] = df"
   ]
  },
  {
   "cell_type": "code",
   "execution_count": null,
   "id": "22aaaefd",
   "metadata": {},
   "outputs": [],
   "source": [
    "# have a look at an example target dataset\n",
    "\n",
    "list(targets.values())[0].head()"
   ]
  },
  {
   "cell_type": "code",
   "execution_count": null,
   "id": "c9e9349d",
   "metadata": {
    "scrolled": false
   },
   "outputs": [],
   "source": [
    "# f_value for various transmission line wind speed destruction thresholds\n",
    "\n",
    "f, axes = plt.subplots(\n",
    "    nrows=len(targets),\n",
    "    figsize=(14, 8 * len(targets))\n",
    ")\n",
    "\n",
    "for i, (threshold, df) in enumerate(targets.items()):\n",
    "    axes[i] = df.plot(\n",
    "        column=\"f_value\",\n",
    "        ax=axes[i],\n",
    "        cmap='tab20c',\n",
    "        legend=True,\n",
    "        legend_kwds={\n",
    "            \"label\": \"f_value (Fraction of customers with electricity)\",\n",
    "            \"orientation\": \"horizontal\",\n",
    "            \"aspect\": 30,\n",
    "        }\n",
    "    )\n",
    "    axes[i].set_title(f\"f_value({threshold})\")\n",
    "    axes[i].set_xlabel(\"Longitude\")\n",
    "    axes[i].set_ylabel(\"Latitude\")\n",
    "    \n",
    "f.savefig(\"f_value.pdf\")"
   ]
  },
  {
   "cell_type": "code",
   "execution_count": null,
   "id": "b3d756bf",
   "metadata": {
    "scrolled": false
   },
   "outputs": [],
   "source": [
    "# Difference between f_value for various transmission line wind speed destruction thresholds\n",
    "\n",
    "lowest_speed, *other_speeds = sorted(targets.keys())\n",
    "\n",
    "f, axes = plt.subplots(\n",
    "    nrows=len(other_speeds),\n",
    "    figsize=(14, 10 * len(other_speeds))\n",
    ")\n",
    "\n",
    "# set the colorbar range to [0, 1]\n",
    "norm = Normalize(vmin=0, vmax=1)\n",
    "\n",
    "for i, threshold in enumerate(other_speeds):\n",
    "    df = targets[threshold]\n",
    "    df[\"difference\"] = df.f_value - targets[lowest_speed].f_value\n",
    "    axes[i] = df.plot(\n",
    "        column=\"difference\",\n",
    "        cmap='tab20b',\n",
    "        norm=norm,\n",
    "        ax=axes[i],\n",
    "        legend=True,\n",
    "        legend_kwds={\n",
    "            \"label\": \"Difference\",\n",
    "            \"orientation\": \"horizontal\",\n",
    "            \"aspect\": 30\n",
    "        }\n",
    "    )\n",
    "    axes[i].set_title(f\"f_value({threshold}) - f_value({lowest_speed})\")\n",
    "    axes[i].set_xlabel(\"Longitude\")\n",
    "    axes[i].set_ylabel(\"Latitude\")\n",
    "    \n",
    "f.savefig(\"f_value_difference.pdf\")"
   ]
  }
 ],
 "metadata": {
  "kernelspec": {
   "display_name": "Python [conda env:open-gira] *",
   "language": "python",
   "name": "conda-env-open-gira-py"
  },
  "language_info": {
   "codemirror_mode": {
    "name": "ipython",
    "version": 3
   },
   "file_extension": ".py",
   "mimetype": "text/x-python",
   "name": "python",
   "nbconvert_exporter": "python",
   "pygments_lexer": "ipython3",
   "version": "3.9.12"
  }
 },
 "nbformat": 4,
 "nbformat_minor": 5
}
